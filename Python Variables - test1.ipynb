{
 "cells": [
  {
   "cell_type": "code",
   "execution_count": 3,
   "id": "b5c68b8f",
   "metadata": {},
   "outputs": [
    {
     "name": "stdout",
     "output_type": "stream",
     "text": [
      "What is the name of the student? Saman\n"
     ]
    }
   ],
   "source": [
    "stdName = str(input(\"What is the name of the student? \"))"
   ]
  },
  {
   "cell_type": "code",
   "execution_count": 2,
   "id": "63ef33c4",
   "metadata": {},
   "outputs": [
    {
     "name": "stdout",
     "output_type": "stream",
     "text": [
      "Rangana\n"
     ]
    }
   ],
   "source": [
    "print(stdName)"
   ]
  },
  {
   "cell_type": "code",
   "execution_count": 4,
   "id": "b23dbaeb",
   "metadata": {},
   "outputs": [
    {
     "name": "stdout",
     "output_type": "stream",
     "text": [
      "Saman\n"
     ]
    }
   ],
   "source": [
    "print(stdName)"
   ]
  },
  {
   "cell_type": "code",
   "execution_count": null,
   "id": "38a758d6",
   "metadata": {},
   "outputs": [],
   "source": []
  }
 ],
 "metadata": {
  "kernelspec": {
   "display_name": "Python 3",
   "language": "python",
   "name": "python3"
  },
  "language_info": {
   "codemirror_mode": {
    "name": "ipython",
    "version": 3
   },
   "file_extension": ".py",
   "mimetype": "text/x-python",
   "name": "python",
   "nbconvert_exporter": "python",
   "pygments_lexer": "ipython3",
   "version": "3.8.8"
  }
 },
 "nbformat": 4,
 "nbformat_minor": 5
}
